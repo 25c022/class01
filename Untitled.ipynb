{
  "nbformat": 4,
  "nbformat_minor": 0,
  "metadata": {
    "colab": {
      "provenance": [],
      "authorship_tag": "ABX9TyPSxR9pkFKOLWWF0NJkPisn",
      "include_colab_link": true
    },
    "kernelspec": {
      "name": "python3",
      "display_name": "Python 3"
    },
    "language_info": {
      "name": "python"
    }
  },
  "cells": [
    {
      "cell_type": "markdown",
      "metadata": {
        "id": "view-in-github",
        "colab_type": "text"
      },
      "source": [
        "<a href=\"https://colab.research.google.com/github/25c022/class01/blob/main/Untitled.ipynb\" target=\"_parent\"><img src=\"https://colab.research.google.com/assets/colab-badge.svg\" alt=\"Open In Colab\"/></a>"
      ]
    },
    {
      "cell_type": "code",
      "execution_count": null,
      "metadata": {
        "id": "M-qVvZ-SlUx4"
      },
      "outputs": [],
      "source": [
        "# prompt: 움직이는 로봇 청소기인데 정사가형을 그려\n",
        "\n",
        "from ipywidgets import Button\n",
        "from IPython.display import display\n",
        "import time\n",
        "\n",
        "# This is a mock-up and doesn't control an actual robot.\n",
        "# It will just print the actions.\n",
        "\n",
        "class RobotCleaner:\n",
        "    def __init__(self):\n",
        "        self.direction = \"right\"\n",
        "        self.x = 0\n",
        "        self.y = 0\n",
        "\n",
        "    def move(self, steps=1):\n",
        "        print(f\"Moving {self.direction} {steps} steps.\")\n",
        "        if self.direction == \"right\":\n",
        "            self.x += steps\n",
        "        elif self.direction == \"down\":\n",
        "            self.y += steps\n",
        "        elif self.direction == \"left\":\n",
        "            self.x -= steps\n",
        "        elif self.direction == \"up\":\n",
        "            self.y -= steps\n",
        "\n",
        "    def turn_right(self):\n",
        "        print(\"Turning right.\")\n",
        "        if self.direction == \"right\":\n",
        "            self.direction = \"down\"\n",
        "        elif self.direction == \"down\":\n",
        "            self.direction = \"left\"\n",
        "        elif self.direction == \"left\":\n",
        "            self.direction = \"up\"\n",
        "        elif self.direction == \"up\":\n",
        "            self.direction = \"right\"\n",
        "\n",
        "    def draw_square(self, side_length):\n",
        "        print(f\"Drawing a square of side length {side_length}\")\n",
        "        for _ in range(4):\n",
        "            self.move(side_length)\n",
        "            self.turn_right()\n",
        "            time.sleep(0.5) # Simulate action time\n",
        "\n",
        "# Create a robot instance\n",
        "robot = RobotCleaner()\n",
        "\n",
        "# Create a button to trigger the action\n",
        "button = Button(description=\"Draw Square\")\n",
        "\n",
        "# Function to execute when the button is clicked\n",
        "def on_button_clicked(b):\n",
        "    robot.draw_square(side_length=5) # You can change the side length here\n",
        "\n",
        "# Attach the function to the button click event\n",
        "button.on_click(on_button_clicked)\n",
        "\n",
        "# Display the button\n",
        "display(button)\n",
        "```"
      ]
    }
  ]
}