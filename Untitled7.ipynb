{
  "nbformat": 4,
  "nbformat_minor": 0,
  "metadata": {
    "colab": {
      "provenance": [],
      "authorship_tag": "ABX9TyMBC67jOxWCge8AVI9W0B3G",
      "include_colab_link": true
    },
    "kernelspec": {
      "name": "python3",
      "display_name": "Python 3"
    },
    "language_info": {
      "name": "python"
    }
  },
  "cells": [
    {
      "cell_type": "markdown",
      "metadata": {
        "id": "view-in-github",
        "colab_type": "text"
      },
      "source": [
        "<a href=\"https://colab.research.google.com/github/25c022/class01/blob/main/Untitled7.ipynb\" target=\"_parent\"><img src=\"https://colab.research.google.com/assets/colab-badge.svg\" alt=\"Open In Colab\"/></a>"
      ]
    },
    {
      "cell_type": "code",
      "execution_count": null,
      "metadata": {
        "colab": {
          "base_uri": "https://localhost:8080/"
        },
        "id": "zeOQ7KEtW5aX",
        "outputId": "e45e6e56-7509-45cf-ee91-e3066d5e7792"
      },
      "outputs": [
        {
          "output_type": "stream",
          "name": "stdout",
          "text": [
            "3 + 8 = ? 12\n",
            "오답입니다. 정답은 11입니다.\n",
            "6 + 13 = ? 13\n",
            "오답입니다. 정답은 19입니다.\n",
            "18 + 13 = ? 133\n",
            "오답입니다. 정답은 31입니다.\n",
            "18 + 6 = ? \n",
            "숫자를 입력해주세요.\n",
            "10 + 20 = ? 144\n",
            "오답입니다. 정답은 30입니다.\n",
            "16 + 8 = ? 5\n",
            "오답입니다. 정답은 24입니다.\n",
            "11 + 6 = ? \n",
            "숫자를 입력해주세요.\n",
            "15 + 1 = ? \n",
            "숫자를 입력해주세요.\n",
            "9 + 7 = ? \n",
            "숫자를 입력해주세요.\n",
            "12 + 8 = ? \n",
            "숫자를 입력해주세요.\n",
            "5 + 19 = ? 5\n",
            "오답입니다. 정답은 24입니다.\n",
            "7 + 13 = ? 5\n",
            "오답입니다. 정답은 20입니다.\n",
            "2 + 10 = ? 5\n",
            "오답입니다. 정답은 12입니다.\n",
            "11 + 6 = ? 5\n",
            "오답입니다. 정답은 17입니다.\n",
            "1 + 13 = ? 5555555555555555555555555555555555555555555555\n",
            "오답입니다. 정답은 14입니다.\n",
            "7 + 4 = ? 555555555\n",
            "오답입니다. 정답은 11입니다.\n",
            "8 + 19 = ? 5\n",
            "오답입니다. 정답은 27입니다.\n",
            "17 + 8 = ? \n",
            "숫자를 입력해주세요.\n",
            "13 + 7 = ? \n",
            "숫자를 입력해주세요.\n",
            "6 + 4 = ? \n",
            "숫자를 입력해주세요.\n",
            "2 + 12 = ? \n",
            "숫자를 입력해주세요.\n",
            "8 + 9 = ? \n",
            "숫자를 입력해주세요.\n",
            "13 + 13 = ? \n",
            "숫자를 입력해주세요.\n",
            "7 + 9 = ? \n",
            "숫자를 입력해주세요.\n",
            "12 + 20 = ? \n",
            "숫자를 입력해주세요.\n",
            "17 + 8 = ? \n",
            "숫자를 입력해주세요.\n",
            "18 + 13 = ? \n",
            "숫자를 입력해주세요.\n",
            "20 + 14 = ? \n",
            "숫자를 입력해주세요.\n",
            "7 + 5 = ? \n",
            "숫자를 입력해주세요.\n",
            "8 + 7 = ? \n",
            "숫자를 입력해주세요.\n",
            "8 + 9 = ? \n",
            "숫자를 입력해주세요.\n",
            "18 + 3 = ? \n",
            "숫자를 입력해주세요.\n",
            "11 + 14 = ? \n",
            "숫자를 입력해주세요.\n",
            "11 + 12 = ? \n",
            "숫자를 입력해주세요.\n"
          ]
        }
      ],
      "source": [
        "# prompt: 간단한 덧셈 게임을 만들어줘.코드를 한줄한줄 설명해줘.문제를 5개 이상 맟출 때까지 게임을 실행해줘\n",
        "\n",
        "import random\n",
        "\n",
        "# 게임에 필요한 변수들을 초기화합니다.\n",
        "correct_answers = 0  # 정답 개수를 저장할 변수\n",
        "total_questions = 0  # 총 질문 개수를 저장할 변수\n",
        "\n",
        "# 문제를 5개 이상 맞출 때까지 게임을 반복합니다.\n",
        "while correct_answers < 5:\n",
        "    # 1부터 100 사이의 두 랜덤 정수를 생성합니다.\n",
        "    num1 = random.randint(1, 100)\n",
        "    num2 = random.randint(1, 100)\n",
        "\n",
        "    # 두 수의 합을 계산합니다.\n",
        "    correct_sum = num1 + num2\n",
        "\n",
        "    # 사용자에게 문제를 출력합니다.\n",
        "    user_answer = input(f\"{num1} + {num2} = ? \")\n",
        "\n",
        "    # 사용자의 입력이 숫자인지 확인합니다.\n",
        "    try:\n",
        "        user_answer = int(user_answer)  # 입력을 정수로 변환합니다.\n",
        "    except ValueError:\n",
        "        print(\"숫자를 입력해주세요.\")  # 잘못된 입력일 경우 메시지를 출력하고 다음 문제로 넘어갑니다.\n",
        "        continue\n",
        "\n",
        "    # 사용자의 답변이 정답과 일치하는지 확인합니다.\n",
        "    if user_answer == correct_sum:\n",
        "        print(\"정답입니다!\")\n",
        "        correct_answers += 1  # 정답 개수를 1 증가시킵니다.\n",
        "    else:\n",
        "        print(f\"오답입니다. 정답은 {correct_sum}입니다.\")\n",
        "\n",
        "    total_questions += 1 # 총 질문 개수 증가\n",
        "\n",
        "# 게임 종료 후 결과를 출력합니다.\n",
        "print(f\"\\n게임 종료! 총 {total_questions}개의 문제 중 {correct_answers}개를 맞혔습니다.\")\n"
      ]
    }
  ]
}