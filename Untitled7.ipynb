{
  "nbformat": 4,
  "nbformat_minor": 0,
  "metadata": {
    "colab": {
      "provenance": [],
      "authorship_tag": "ABX9TyPDxmPb7fS7IO899n3G3qRo",
      "include_colab_link": true
    },
    "kernelspec": {
      "name": "python3",
      "display_name": "Python 3"
    },
    "language_info": {
      "name": "python"
    }
  },
  "cells": [
    {
      "cell_type": "markdown",
      "metadata": {
        "id": "view-in-github",
        "colab_type": "text"
      },
      "source": [
        "<a href=\"https://colab.research.google.com/github/25c022/class01/blob/main/Untitled7.ipynb\" target=\"_parent\"><img src=\"https://colab.research.google.com/assets/colab-badge.svg\" alt=\"Open In Colab\"/></a>"
      ]
    },
    {
      "cell_type": "code",
      "execution_count": 9,
      "metadata": {
        "colab": {
          "base_uri": "https://localhost:8080/"
        },
        "id": "zeOQ7KEtW5aX",
        "outputId": "54f819d3-0d38-40fa-9947-d5a2552e281b"
      },
      "outputs": [
        {
          "output_type": "stream",
          "name": "stdout",
          "text": [
            "21 + 70 = ? 91\n",
            "정답입니다!\n",
            "12 + 37 = ? 49\n",
            "정답입니다!\n",
            "31 + 75 = ? 106\n",
            "정답입니다!\n",
            "29 + 94 = ? 124\n",
            "오답입니다. 정답은 123입니다.\n",
            "12 + 62 = ? 74\n",
            "정답입니다!\n",
            "38 + 63 = ? 101\n",
            "정답입니다!\n",
            "80 + 36 = ? 116\n",
            "정답입니다!\n",
            "65 + 9 = ? 74\n",
            "정답입니다!\n",
            "3 + 98 = ? 101\n",
            "정답입니다!\n",
            "14 + 14 = ? 28\n",
            "정답입니다!\n",
            "73 + 46 = ? 119\n",
            "정답입니다!\n",
            "\n",
            "게임 종료! 총 11개의 문제 중 10개를 맞혔습니다.\n"
          ]
        }
      ],
      "source": [
        "# prompt: 간단한 덧셈 게임을 만들어줘.코드를 한줄한줄 설명해줘.문제를 5개 이상 맟출 때까지 게임을 실행해줘\n",
        "\n",
        "import random\n",
        "\n",
        "# 게임에 필요한 변수들을 초기화합니다.\n",
        "correct_answers = 0  # 정답 개수를 저장할 변수\n",
        "total_questions = 0  # 총 질문 개수를 저장할 변수\n",
        "\n",
        "# 문제를 5개 이상 맞출 때까지 게임을 반복합니다.\n",
        "while correct_answers < 10:\n",
        "    # 1부터 100 사이의 두 랜덤 정수를 생성합니다.\n",
        "    num1 = random.randint(1, 100)\n",
        "    num2 = random.randint(1, 100)\n",
        "\n",
        "    # 두 수의 합을 계산합니다.\n",
        "    correct_sum = num1 + num2\n",
        "\n",
        "    # 사용자에게 문제를 출력합니다.\n",
        "    user_answer = input(f\"{num1} + {num2} = ? \")\n",
        "\n",
        "    # 사용자의 입력이 숫자인지 확인합니다.\n",
        "    try:\n",
        "        user_answer = int(user_answer)  # 입력을 정수로 변환합니다.\n",
        "    except ValueError:\n",
        "        print(\"숫자를 입력해주세요.\")  # 잘못된 입력일 경우 메시지를 출력하고 다음 문제로 넘어갑니다.\n",
        "        continue\n",
        "\n",
        "    # 사용자의 답변이 정답과 일치하는지 확인합니다.\n",
        "    if user_answer == correct_sum:\n",
        "        print(\"정답입니다!\")\n",
        "        correct_answers += 1  # 정답 개수를 1 증가시킵니다.\n",
        "    else:\n",
        "        print(f\"오답입니다. 정답은 {correct_sum}입니다.\")\n",
        "\n",
        "    total_questions += 1 # 총 질문 개수 증가\n",
        "\n",
        "# 게임 종료 후 결과를 출력합니다.\n",
        "print(f\"\\n게임 종료! 총 {total_questions}개의 문제 중 {correct_answers}개를 맞혔습니다.\")\n"
      ]
    }
  ]
}