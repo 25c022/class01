{
  "nbformat": 4,
  "nbformat_minor": 0,
  "metadata": {
    "colab": {
      "provenance": [],
      "authorship_tag": "ABX9TyPtSENWhrcQNIFyVOXAh3BA",
      "include_colab_link": true
    },
    "kernelspec": {
      "name": "python3",
      "display_name": "Python 3"
    },
    "language_info": {
      "name": "python"
    }
  },
  "cells": [
    {
      "cell_type": "markdown",
      "metadata": {
        "id": "view-in-github",
        "colab_type": "text"
      },
      "source": [
        "<a href=\"https://colab.research.google.com/github/25c022/class01/blob/main/Untitled9.ipynb\" target=\"_parent\"><img src=\"https://colab.research.google.com/assets/colab-badge.svg\" alt=\"Open In Colab\"/></a>"
      ]
    },
    {
      "cell_type": "code",
      "execution_count": null,
      "metadata": {
        "id": "vkvqMLuOQEo4"
      },
      "outputs": [],
      "source": [
        "# prompt: 초등학교 저학년이 풀 국어 초성게임을 만들어줘. 맞으면 점수를 주고,  칭찬을 해줘, 틀리면 정답을 알려주고, 위로를 해줘\n",
        "\n",
        "import random\n",
        "\n",
        "def 초성게임():\n",
        "  \"\"\"\n",
        "  초등학교 저학년을 위한 간단한 초성 게임입니다.\n",
        "  \"\"\"\n",
        "  단어_목록 = {\n",
        "      'ㄱㅏㅈㅣ': '가지',\n",
        "      'ㅅㅏㄱㅗㅏ': '사과',\n",
        "      'ㅂㅏㄴㅏㄴㅏ': '바나나',\n",
        "      'ㅊㅐㅅㅗ': '채소',\n",
        "      'ㄷㅗㅁㅏㅌㅗ': '토마토',\n",
        "      'ㅅㅜㅂㅏㄱ': '수박',\n",
        "      'ㅍㅗㄷㅗ': '포도',\n",
        "      'ㄱㅜㄱㅣ': '고기',\n",
        "      'ㅂㅏㅂ': '밥',\n",
        "      'ㄲㅗㅊ': '꽃',\n",
        "      'ㄴㅏㅁㅜ': '나무',\n",
        "      'ㅎㅏㄴㅡㄹ': '하늘',\n",
        "      'ㅂㅏㄷㅏ': '바다',\n",
        "      'ㅎㅐㅅㅏㅇ': '햇살',\n",
        "      'ㄷㅏㄹ': '달',\n",
        "  }\n",
        "\n",
        "  점수 = 0\n",
        "  print(\"안녕! 초성 게임에 온 걸 환영해!\")\n",
        "\n",
        "  while True:\n",
        "    초성_단어 = random.choice(list(단어_목록.keys()))\n",
        "    정답 = 단어_목록[초성_단어]\n",
        "\n",
        "    print(f\"\\n문제: {초성_단어}\")\n",
        "    사용자_입력 = input(\"정답은 무엇일까요? (게임을 끝내려면 '끝'을 입력하세요): \")\n",
        "\n",
        "    if 사용자_입력 == '끝':\n",
        "      print(f\"\\n게임을 마칠게요. 지금까지 {점수}점을 얻었어요! 다음에 또 만나요!\")\n",
        "      break\n",
        "\n",
        "    if 사용자_입력 == 정답:\n",
        "      점수 += 1\n",
        "      print(\"와! 정말 대단해! 정답이야! 👍\")\n",
        "      print(f\"지금 점수는 {점수}점이야!\")\n",
        "    else:\n",
        "      print(\"아쉽지만 틀렸어. 😥\")\n",
        "      print(f\"정답은 '{정답}'이었어.\")\n",
        "      print(\"괜찮아! 다음 문제를 맞춰보자!\")\n",
        "\n",
        "# 게임 시작\n",
        "초성게임()\n"
      ]
    }
  ]
}