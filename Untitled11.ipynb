{
  "nbformat": 4,
  "nbformat_minor": 0,
  "metadata": {
    "colab": {
      "provenance": [],
      "authorship_tag": "ABX9TyNfWaZnhnFM4WvN70ZqIw0M",
      "include_colab_link": true
    },
    "kernelspec": {
      "name": "python3",
      "display_name": "Python 3"
    },
    "language_info": {
      "name": "python"
    }
  },
  "cells": [
    {
      "cell_type": "markdown",
      "metadata": {
        "id": "view-in-github",
        "colab_type": "text"
      },
      "source": [
        "<a href=\"https://colab.research.google.com/github/25c022/class01/blob/main/Untitled11.ipynb\" target=\"_parent\"><img src=\"https://colab.research.google.com/assets/colab-badge.svg\" alt=\"Open In Colab\"/></a>"
      ]
    },
    {
      "cell_type": "code",
      "execution_count": 2,
      "metadata": {
        "colab": {
          "base_uri": "https://localhost:8080/"
        },
        "id": "pxO2PRB8RLe2",
        "outputId": "0c3fd466-892e-457e-8ab7-6bba13888deb"
      },
      "outputs": [
        {
          "output_type": "stream",
          "name": "stdout",
          "text": [
            "첫 번째 숫자를 입력하세요: 3\n",
            "두 번째 숫자를 입력하세요: 4\n",
            "사용할 연산자를 입력하세요 (+, -, *, /): -\n",
            "3 - 4 = -1\n"
          ]
        }
      ],
      "source": [
        "\n",
        "# prompt: 사칙연산 계산기 프로그램을 만들어줘.첫번째 수를 묻고 대답을 기다기고 값1을 대답으로 정해.그리고 두번째 수를 묻고 대답을 기다리고 값2를 정해.마지막으로 값1(무작위 사칙연산)값2의 값을 출력해\n",
        "\n",
        "val1 = int(input(\"첫 번째 숫자를 입력하세요: \"))\n",
        "val2 = int(input(\"두 번째 숫자를 입력하세요: \"))\n",
        "operator = input(\"사용할 연산자를 입력하세요 (+, -, *, /): \")\n",
        "\n",
        "if operator == '+':\n",
        "  result = val1 + val2\n",
        "elif operator == '-':\n",
        "  result = val1 - val2\n",
        "elif operator == '*':\n",
        "  result = val1 * val2\n",
        "elif operator == '/':\n",
        "  if val2 != 0:\n",
        "    result = val1 / val2\n",
        "  else:\n",
        "    result = \"0으로 나눌 수 없습니다.\"\n",
        "else:\n",
        "  result = \"잘못된 연산자입니다.\"\n",
        "\n",
        "print(f\"{val1} {operator} {val2} = {result}\")\n"
      ]
    }
  ]
}