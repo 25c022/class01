{
  "nbformat": 4,
  "nbformat_minor": 0,
  "metadata": {
    "colab": {
      "provenance": [],
      "authorship_tag": "ABX9TyOTdvoOIJyN2sGt5sDu2l5q",
      "include_colab_link": true
    },
    "kernelspec": {
      "name": "python3",
      "display_name": "Python 3"
    },
    "language_info": {
      "name": "python"
    }
  },
  "cells": [
    {
      "cell_type": "markdown",
      "metadata": {
        "id": "view-in-github",
        "colab_type": "text"
      },
      "source": [
        "<a href=\"https://colab.research.google.com/github/25c022/class01/blob/main/Untitled0.ipynb\" target=\"_parent\"><img src=\"https://colab.research.google.com/assets/colab-badge.svg\" alt=\"Open In Colab\"/></a>"
      ]
    },
    {
      "cell_type": "code",
      "execution_count": null,
      "metadata": {
        "id": "ufGpGf7MAdYj"
      },
      "outputs": [],
      "source": [
        "# 첫번째 영재학급 수업"
      ]
    },
    {
      "cell_type": "markdown",
      "source": [],
      "metadata": {
        "id": "PGXIxWMNB0G9"
      }
    },
    {
      "cell_type": "code",
      "source": [
        "₩# prompt: 간단한 숫자 게임 만들어줘\n",
        "\n",
        "import random\n",
        "\n",
        "def number_guessing_game():\n",
        "    secret_number = random.randint(20,80 )\n",
        "    guesses_left = 5\n",
        "\n",
        "    print(\"20부터 80까지의 숫자를 맞춰보세요! 7번의 기회가 있습니다.\")\n",
        "\n",
        "    while guesses_left > 0:\n",
        "        try:\n",
        "            guess = int(input(f\"남은 기회: {guesses_left}번. nundus를 입력하세요: \"))\n",
        "        except ValueError:\n",
        "            print(\"number\n",
        "    를 입력해주세요.\")\n",
        "            continue\n",
        "\n",
        "        if guess < secret_number:\n",
        "            print(\"너무 낮아요!\")\n",
        "        elif guess > secret_number:\n",
        "            print(\"너무 높아요!\")\n",
        "        else:\n",
        "            print(f\"정답입니다! {secret_number}를 맞추셨어요!\")\n",
        "            return\n",
        "\n",
        "        guesses_left -= 1\n",
        "\n",
        "    print(f\"기회를 모두 소진했습니다. 정답은 {secret_number}였습니다.\")\n",
        "\n",
        "if __name__ == \"__main__\":\n",
        "    number_guessing_game()\n"
      ],
      "metadata": {
        "colab": {
          "base_uri": "https://localhost:8080/",
          "height": 112
        },
        "id": "QBTlBXbsB0aV",
        "outputId": "4a3888a1-844c-4582-d969-69698f09ce02"
      },
      "execution_count": null,
      "outputs": [
        {
          "output_type": "error",
          "ename": "SyntaxError",
          "evalue": "invalid character '₩' (U+20A9) (<ipython-input-6-7c12f9c75068>, line 1)",
          "traceback": [
            "\u001b[0;36m  File \u001b[0;32m\"<ipython-input-6-7c12f9c75068>\"\u001b[0;36m, line \u001b[0;32m1\u001b[0m\n\u001b[0;31m    ₩# prompt: 간단한 숫자 게임 만들어줘\u001b[0m\n\u001b[0m    ^\u001b[0m\n\u001b[0;31mSyntaxError\u001b[0m\u001b[0;31m:\u001b[0m invalid character '₩' (U+20A9)\n"
          ]
        }
      ]
    },
    {
      "cell_type": "code",
      "source": [],
      "metadata": {
        "id": "8kmM_OpCCTKj"
      },
      "execution_count": null,
      "outputs": []
    }
  ]
}